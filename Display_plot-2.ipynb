{
 "cells": [
  {
   "cell_type": "code",
   "execution_count": 1,
   "metadata": {},
   "outputs": [],
   "source": [
    "import matplotlib.pyplot as plt\n",
    "import numpy as np\n",
    "def Display(count,size, FileName,**kwargs):\n",
    "    \"\"\" This Function is to Display the data sets in scatter plot \n",
    "    \n",
    "    Syntax:\n",
    "    \n",
    "    \n",
    "    Disply(size,Dataset_Name = Dataset_value ,...)\n",
    "    Size will be around 0.1 to 20\n",
    "    DataSetName is the Name of the DataSet which will be displayed as legend\n",
    "    Dataset_value in numpy Array in 2D\n",
    "    \"\"\"\n",
    "    \n",
    "    fig = plt.figure(count, figsize=(20,15))\n",
    "    ax1 = fig.add_subplot(111)\n",
    "    \n",
    "    #print(\"formal arg:\", farg)\n",
    "    #for key in kwargs:\n",
    "    colour = ['r','g','b','orange','y','cy']\n",
    "    count = 0\n",
    "    \n",
    "    for key in kwargs:\n",
    "        #print(\"another keyword arg: %s: %s\" %(key, kwargs[key]))\n",
    "        #print(kwargs)\n",
    "        Lon_Lat = kwargs[key]\n",
    "        Lon = Lon_Lat[:,1]\n",
    "        Lat = Lon_Lat[:,0]\n",
    "        ax1.scatter(Lon,Lat,label = key,color = colour[count],s=size)\n",
    "        plt.xlabel('Longititude')\n",
    "        plt.ylabel('Latitude')\n",
    "        plt.title(FileName)\n",
    "        plt.legend()\n",
    "        count = count+1\n",
    "        plt.savefig(FileName+\".jpg\")\n",
    "        #print(count)\n"
   ]
  },
  {
   "cell_type": "raw",
   "metadata": {},
   "source": [
    "f=open('True_Cluster_Centers_Forest.csv','wb')\n",
    "np.savetxt(f,True_center_alt, delimiter=',')\n",
    "f.close()\n",
    "f=open('True_Cluster_Centers_Roadways.csv','wb')\n",
    "np.savetxt(f,True_LAT_LON, delimiter=',')\n",
    "f.close()"
   ]
  },
  {
   "cell_type": "code",
   "execution_count": 2,
   "metadata": {},
   "outputs": [
    {
     "name": "stdout",
     "output_type": "stream",
     "text": [
      "(1431, 3)\n",
      "(319, 2)\n"
     ]
    }
   ],
   "source": [
    "from numpy import genfromtxt\n",
    "True_center_alt = genfromtxt('True_Cluster_Centers_Forest.csv', delimiter=',')\n",
    "True_LAT_LON = genfromtxt('True_Cluster_Centers_Roadways.csv',delimiter = ',')\n",
    "print(True_center_alt.shape)\n",
    "print(True_LAT_LON.shape)"
   ]
  },
  {
   "cell_type": "markdown",
   "metadata": {},
   "source": [
    "### True Center Alt Copy"
   ]
  },
  {
   "cell_type": "code",
   "execution_count": 3,
   "metadata": {},
   "outputs": [],
   "source": [
    "True_center_alt_copy = True_center_alt.copy()\n",
    "True_LAT_LON_copy = True_LAT_LON.copy()"
   ]
  },
  {
   "cell_type": "code",
   "execution_count": 4,
   "metadata": {},
   "outputs": [
    {
     "data": {
      "text/plain": [
       "array([[    9.79158,    77.63311,   362.62   ],\n",
       "       [    9.70994,    77.71264,   226.19   ],\n",
       "       [    9.78595,    77.61363,   471.87   ],\n",
       "       ..., \n",
       "       [    9.69605,    77.68603,   392.59   ],\n",
       "       [    9.73214,    77.68337,  1117.41   ],\n",
       "       [    9.67656,    77.54058,   456.08   ]])"
      ]
     },
     "execution_count": 4,
     "metadata": {},
     "output_type": "execute_result"
    }
   ],
   "source": [
    "True_center_alt"
   ]
  },
  {
   "cell_type": "markdown",
   "metadata": {},
   "source": [
    "### Backup"
   ]
  },
  {
   "cell_type": "code",
   "execution_count": 5,
   "metadata": {},
   "outputs": [
    {
     "data": {
      "text/plain": [
       "(1431, 3)"
      ]
     },
     "execution_count": 5,
     "metadata": {},
     "output_type": "execute_result"
    }
   ],
   "source": [
    "True_center_alt = True_center_alt_copy.copy()\n",
    "True_center_alt.shape"
   ]
  },
  {
   "cell_type": "raw",
   "metadata": {},
   "source": [
    "True_Center_alt = [list(j) for j in center_alt if j in Forest_Lat_Lon_Alt]\n",
    "print(len(True_Center_alt))\n",
    "True_Center_alt = np.array(True_Center_alt)\n",
    "print(center_alt.shape)\n",
    "print(True_Center_alt.shape)"
   ]
  },
  {
   "cell_type": "code",
   "execution_count": 6,
   "metadata": {},
   "outputs": [
    {
     "data": {
      "text/plain": [
       "(1431, 3)"
      ]
     },
     "execution_count": 6,
     "metadata": {},
     "output_type": "execute_result"
    }
   ],
   "source": [
    "True_center_alt.shape\n"
   ]
  },
  {
   "cell_type": "code",
   "execution_count": null,
   "metadata": {},
   "outputs": [],
   "source": [
    "Display(count =1,size =10,FileName =\"True_Centroids.jpg\",RoadWay = True_LAT_LON,Forest_Center = True_center_alt)"
   ]
  },
  {
   "cell_type": "markdown",
   "metadata": {},
   "source": [
    "### LAT = 9.7 LON=77.48 Alt=100\n",
    "### LAT = 9.73 LON = 77.68 Alt =100"
   ]
  },
  {
   "cell_type": "code",
   "execution_count": null,
   "metadata": {},
   "outputs": [],
   "source": [
    "Test_LAT = float(input())\n",
    "Test_Lon = float(input())\n",
    "Test_Alt = float(input())\n",
    "Unknown_point = np.array([Test_LAT,Test_Lon,Test_Alt])\n",
    "Path_Distance_Measure = 0\n",
    "StartingPoint = Unknown_point.copy()"
   ]
  },
  {
   "cell_type": "code",
   "execution_count": 7,
   "metadata": {},
   "outputs": [],
   "source": [
    "import math as m\n",
    "def rad(x):\n",
    "    return ((m.pi*x)/180)"
   ]
  },
  {
   "cell_type": "markdown",
   "metadata": {},
   "source": [
    "rad(a[0])"
   ]
  },
  {
   "cell_type": "markdown",
   "metadata": {},
   "source": [
    "### Finding Target Point from Unknown Point"
   ]
  },
  {
   "cell_type": "markdown",
   "metadata": {},
   "source": [
    "### Harversine Distance Formula\n"
   ]
  },
  {
   "cell_type": "code",
   "execution_count": 8,
   "metadata": {},
   "outputs": [],
   "source": [
    "def Haversine(CenterLAT_LON_Points,Target_Point):\n",
    "    R = 6378137\n",
    "    top = 10\n",
    "    dLat = rad(CenterLAT_LON_Points[:,0]) - rad(Target_Point[0]);\n",
    "    dLon = rad(CenterLAT_LON_Points[:,1]) - rad(Target_Point[1]);\n",
    "    #print(dLat)\n",
    "    #print(dLon)\n",
    "    aa = np.sin(dLat / 2) * np.sin(dLat / 2) + np.cos(rad(CenterLAT_LON_Points[:,0]))*np.cos(rad(Target_Point[0]))*np.sin(dLon / 2)*np.sin(dLon / 2);\n",
    "    c = 2 *np.arctan2(np.sqrt(aa),np.sqrt(1-aa));\n",
    "    distance = R * c\n",
    "    #print(distance)\n",
    "    dis_index = distance.argsort()\n",
    "    #print(type(CenterLAT_LON_Points))\n",
    "    distance = np.array([round(float(i),2) for i in distance[dis_index]])\n",
    "    #return(CenterLAT_LON_Points[dis_index][0],distance[0])\n",
    "    #return(CenterLAT_LON_Points[dis_index][0:top],distance[0:top])\n",
    "    return(dis_index,distance)\n",
    "\n",
    "    #print(dis_index)"
   ]
  },
  {
   "cell_type": "code",
   "execution_count": null,
   "metadata": {},
   "outputs": [],
   "source": []
  },
  {
   "cell_type": "markdown",
   "metadata": {},
   "source": [
    "### Backup_ClusterCenters"
   ]
  },
  {
   "cell_type": "code",
   "execution_count": 25,
   "metadata": {},
   "outputs": [
    {
     "name": "stdout",
     "output_type": "stream",
     "text": [
      "(1431, 3)\n"
     ]
    }
   ],
   "source": [
    "True_center_alt = True_center_alt_copy.copy()\n",
    "print(True_center_alt.shape)\n",
    "Distance_Array = np.array([])\n",
    "points = np.array([])\n",
    "Unknown_point = np.array([9.75,77.7,100])\n",
    "StartingPoint = Unknown_point.copy()"
   ]
  },
  {
   "cell_type": "code",
   "execution_count": 18,
   "metadata": {},
   "outputs": [
    {
     "data": {
      "text/plain": [
       "array([   9.7 ,   77.67,  100.  ])"
      ]
     },
     "execution_count": 18,
     "metadata": {},
     "output_type": "execute_result"
    }
   ],
   "source": [
    "StartingPoint"
   ]
  },
  {
   "cell_type": "markdown",
   "metadata": {},
   "source": [
    "### Pythogorus Theorem\n"
   ]
  },
  {
   "cell_type": "code",
   "execution_count": 13,
   "metadata": {},
   "outputs": [],
   "source": [
    "def hypo(x,y):\n",
    "    return(np.floor(np.sqrt(np.square(x) + np.square(y))))"
   ]
  },
  {
   "cell_type": "markdown",
   "metadata": {},
   "source": [
    "### Around 10 Km Points"
   ]
  },
  {
   "cell_type": "code",
   "execution_count": 14,
   "metadata": {},
   "outputs": [],
   "source": [
    "def Top_Around_10KM(distance):\n",
    "    Around = 10;\n",
    "    Top = distance[0]\n",
    "    for i in range(1,distance.shape[0]):\n",
    "        if(np.abs(Top - distance[i])<Around):\n",
    "            #Top = np.append(Top,distance[i])\n",
    "            Top = distance[i]\n",
    "            #count = i\n",
    "        else:\n",
    "            #print(i)\n",
    "            break\n",
    "    return(i)\n",
    "#print(Top_Around_10KM(Distance))\n"
   ]
  },
  {
   "cell_type": "markdown",
   "metadata": {},
   "source": [
    "### Filtering Points Lies between Target and Test Points Quarderants"
   ]
  },
  {
   "cell_type": "code",
   "execution_count": 15,
   "metadata": {},
   "outputs": [],
   "source": [
    "def Filtering(Test_LAT_LON_Alt,Top_Target_Points,True_Center_alt):\n",
    "    \"\"\"Argument 1 Unknown Position, Argument 2 Top Target Points to Reach, Argument 3 True Center Points\"\"\"\n",
    "    #Filter_points = True_Center_alt\n",
    "    [x,y] = Test_LAT_LON_Alt[0:2] - Top_Target_Points[0]\n",
    "    #print(x,y)\n",
    "    if(x>0):\n",
    "        Filter_points = True_Center_alt[True_Center_alt[:,0]<Test_LAT_LON_Alt[0]]\n",
    "        #print(Filter_points.shape)\n",
    "        if(y>0):\n",
    "            Filter_points = Filter_points[Filter_points[:,1]>Test_LAT_LON_Alt[1]]\n",
    "        else:\n",
    "            Filter_points = Filter_points[Filter_points[:,1]<Test_LAT_LON_Alt[1]]\n",
    "    if(x<0):\n",
    "        Filter_points = True_Center_alt[True_Center_alt[:,0]>Test_LAT_LON_Alt[0]]\n",
    "        #print(Filter_points.shape)\n",
    "        if(y>0):\n",
    "            Filter_points = Filter_points[Filter_points[:,1]>Test_LAT_LON_Alt[1]]\n",
    "        else:\n",
    "            Filter_points = Filter_points[Filter_points[:,1]<Test_LAT_LON_Alt[1]]\n",
    "    return(Filter_points)"
   ]
  },
  {
   "cell_type": "markdown",
   "metadata": {},
   "source": [
    "### Copy"
   ]
  },
  {
   "cell_type": "raw",
   "metadata": {},
   "source": [
    "def Filtering(Test_LAT_LON_Alt,Top_Target_Points,True_Center_alt):\n",
    "    \"\"\"Argument 1 Unknown Position, Argument 2 Top Target Points to Reach, Argument 3 True Center Points\"\"\"\n",
    "    #Filter_points = True_Center_alt\n",
    "    [x,y] = Test_LAT_LON_Alt[0:2] - Top_Target_Points[0]\n",
    "    print(x,y)\n",
    "    if(x>0):\n",
    "        Filter_points = True_Center_alt[True_Center_alt[:,0]<Test_LAT_LON_Alt[0]]\n",
    "        Filter_points = True_Center_alt[True_Center_alt[:,0]>(Test_LAT_LON_Alt[0]-(2*x))]\n",
    "        #print(Filter_points.shape)\n",
    "        if(y>0):\n",
    "            Filter_points = Filter_points[Filter_points[:,1]>Test_LAT_LON_Alt[1]]\n",
    "        else:\n",
    "            Filter_points = Filter_points[Filter_points[:,1]<Test_LAT_LON_Alt[1]]\n",
    "    if(x<0):\n",
    "        Filter_points = True_Center_alt[True_Center_alt[:,0]>Test_LAT_LON_Alt[0]]\n",
    "        Filter_points = True_Center_alt[True_Center_alt[:,0]>Test_LAT_LON_Alt[0]]\n",
    "        #print(Filter_points.shape)\n",
    "        if(y>0):\n",
    "            Filter_points = Filter_points[Filter_points[:,1]>Test_LAT_LON_Alt[1]]\n",
    "        else:\n",
    "            Filter_points = Filter_points[Filter_points[:,1]<Test_LAT_LON_Alt[1]]\n",
    "    return(Filter_points)"
   ]
  },
  {
   "cell_type": "markdown",
   "metadata": {},
   "source": [
    "### Testing to determine opposite points"
   ]
  },
  {
   "cell_type": "code",
   "execution_count": null,
   "metadata": {},
   "outputs": [],
   "source": [
    "Sortted_Index,Distance = Haversine(True_LAT_LON,Unknown_point)\n",
    "Target_Point = True_LAT_LON[Sortted_Index[0]]\n",
    "Target_Point"
   ]
  },
  {
   "cell_type": "code",
   "execution_count": null,
   "metadata": {},
   "outputs": [],
   "source": [
    "Distance[0]"
   ]
  },
  {
   "cell_type": "code",
   "execution_count": null,
   "metadata": {},
   "outputs": [],
   "source": [
    "Sortted_Index,Distance1 = Haversine(True_center_alt,Target_Point)\n",
    "Distance1"
   ]
  },
  {
   "cell_type": "code",
   "execution_count": null,
   "metadata": {},
   "outputs": [],
   "source": [
    "Unknown_point"
   ]
  },
  {
   "cell_type": "code",
   "execution_count": null,
   "metadata": {},
   "outputs": [],
   "source": [
    "Display(count=1,size = 10, FileName = \"Output_File\",Cluster_Center = True_center_alt,RoadWay = True_LAT_LON)\n",
    "plt.hold(True)\n",
    "#fig1 = plt.figure(1, figsize=(15,12))\n",
    "#ax = fig1.add_subplot(111)\n",
    "#plt.plot(line_points_Lon,line_points_Lat,'*-',linewidth=2,markersize=10)\n",
    "plt.text(Unknown_point[1],Unknown_point[0],'r**')\n",
    "plt.text(Target_Point[1],Target_Point[0],'r**')\n",
    "plt.savefig(\"OutputFile1.jpg\")\n",
    "plt.hold(False)"
   ]
  },
  {
   "cell_type": "code",
   "execution_count": null,
   "metadata": {},
   "outputs": [],
   "source": [
    "Image_Target_Point = Target_Point.copy()"
   ]
  },
  {
   "cell_type": "code",
   "execution_count": null,
   "metadata": {},
   "outputs": [],
   "source": [
    "I_Distance = Distance[0] * 2"
   ]
  },
  {
   "cell_type": "code",
   "execution_count": null,
   "metadata": {},
   "outputs": [],
   "source": [
    "theta = np.arctan((Target_Point[1]-Unknown_point[1])/(Target_Point[0]-Unknown_point[0]))\n",
    "theta"
   ]
  },
  {
   "cell_type": "code",
   "execution_count": null,
   "metadata": {},
   "outputs": [],
   "source": [
    "np.arctan(1)"
   ]
  },
  {
   "cell_type": "code",
   "execution_count": null,
   "metadata": {},
   "outputs": [],
   "source": [
    "theta1 = np.arctan((True_center_alt[:,1]-Target_Point[1])/(True_center_alt[:,0]-Target_Point[0]))"
   ]
  },
  {
   "cell_type": "code",
   "execution_count": null,
   "metadata": {},
   "outputs": [],
   "source": [
    "a= (theta1 <= theta)\n",
    "a.any()"
   ]
  },
  {
   "cell_type": "code",
   "execution_count": null,
   "metadata": {},
   "outputs": [],
   "source": [
    "print(True_center_alt.shape)\n",
    "Sortted_Index,Distance = Haversine(True_LAT_LON,Unknown_point)\n",
    "print(Distance[0])\n",
    "Target_Point = True_LAT_LON[Sortted_Index[0]]\n",
    "#True_LAT_LON\n",
    "points = np.append(points,Unknown_point)\n",
    "#print(points)\n",
    "#print(Unknown_point,Target_Point,True_center_alt.shape)\n",
    "True_center_alt = Filtering(Unknown_point,Target_Point,True_center_alt)\n",
    "#print(True_center_alt.shape)\n",
    "Display(count=1,size = 10, FileName = \"Output_File\",Cluster_Center = True_center_alt,RoadWay = True_LAT_LON)   \n",
    "    \n",
    "#TO ENTER SOME MORE CODE FOR DETECTING ROADMAP LIES INSIDE FOREST REGION\n",
    "    \n",
    "    \n",
    "    \n",
    "    \n",
    "Sortted_Index,Distance = Haversine(True_center_alt,Unknown_point)\n",
    "top_center_cluster = True_center_alt[Sortted_Index[0:10]].copy()\n",
    "elevation_distance = hypo(True_center_alt[Sortted_Index[0:10],2],Distance[0:10])\n",
    "elevation_distance = elevation_distance.argsort()\n",
    "Unknown_point = top_center_cluster[elevation_distance[0]]\n",
    "Distance_Array = np.append(Distance_Array,hypo(points[-1],Unknown_point[-1]))\n"
   ]
  },
  {
   "cell_type": "code",
   "execution_count": null,
   "metadata": {},
   "outputs": [],
   "source": []
  },
  {
   "cell_type": "code",
   "execution_count": null,
   "metadata": {},
   "outputs": [],
   "source": []
  },
  {
   "cell_type": "code",
   "execution_count": null,
   "metadata": {},
   "outputs": [],
   "source": []
  },
  {
   "cell_type": "code",
   "execution_count": null,
   "metadata": {},
   "outputs": [],
   "source": []
  },
  {
   "cell_type": "code",
   "execution_count": null,
   "metadata": {},
   "outputs": [],
   "source": []
  },
  {
   "cell_type": "code",
   "execution_count": null,
   "metadata": {},
   "outputs": [],
   "source": []
  },
  {
   "cell_type": "markdown",
   "metadata": {},
   "source": [
    "###  ---------------------------------------------Testing end---------------------------------------------"
   ]
  },
  {
   "cell_type": "code",
   "execution_count": 26,
   "metadata": {},
   "outputs": [
    {
     "name": "stdout",
     "output_type": "stream",
     "text": [
      "2622.92\n",
      "791.85\n"
     ]
    }
   ],
   "source": [
    "\n",
    "while(True_center_alt.shape[0]>10):\n",
    "    Sortted_Index,Distance = Haversine(True_LAT_LON,Unknown_point)\n",
    "    #print(\"Top 10 Roadway points\\n\",True_LAT_LON[Sortted_Index[0]])\n",
    "    print(Distance[0])\n",
    "    Target_Point = True_LAT_LON[Sortted_Index[0]]\n",
    "    #True_LAT_LON\n",
    "    points = np.append(points,Unknown_point)\n",
    "    #print(points)\n",
    "    #print(Unknown_point,Target_Point,True_center_alt.shape)\n",
    "    True_center_alt = Filtering(Unknown_point,Target_Point,True_center_alt)\n",
    "    #print(True_center_alt.shape)\n",
    "    \n",
    "    \n",
    "    #TO ENTER SOME MORE CODE FOR DETECTING ROADMAP LIES INSIDE FOREST REGION\n",
    "    \n",
    "    \n",
    "    \n",
    "    \n",
    "    Sortted_Index,Distance = Haversine(True_center_alt,Unknown_point)\n",
    "    top_center_cluster = True_center_alt[Sortted_Index[0:10]].copy()\n",
    "    elevation_distance = hypo(True_center_alt[Sortted_Index[0:10],2],Distance[0:10])\n",
    "    elevation_distance = elevation_distance.argsort()\n",
    "    Unknown_point = top_center_cluster[elevation_distance[0]]\n",
    "    Distance_Array = np.append(Distance_Array,hypo(points[-1],Unknown_point[-1]))\n",
    "   #Display(count=1,size = 10, FileName = \"Output_File\"+str(i),Cluster_Center = True_center_alt,RoadWay = True_LAT_LON)\n",
    "    #print(Distance_Array[-1])"
   ]
  },
  {
   "cell_type": "code",
   "execution_count": 27,
   "metadata": {},
   "outputs": [
    {
     "name": "stdout",
     "output_type": "stream",
     "text": [
      "List of Points in between Unknown Points and Target Points\n",
      " [[   9.75        77.7        100.       ]\n",
      " [   9.7671475   77.7031725  333.11     ]\n",
      " [   9.76746     77.7265575  268.21     ]]\n",
      "Distance required to reach reach points in meter [ 347.  427.]\n"
     ]
    }
   ],
   "source": [
    "Sortted_Index,Distance = Haversine(True_LAT_LON,StartingPoint)\n",
    "#print(\"Top 10 Roadway points\\n\",True_LAT_LON[Sortted_Index[0]])\n",
    "#print(Distance[0])\n",
    "Target_Point = True_LAT_LON[Sortted_Index[0]]\n",
    "#True_LAT_LO.shapeN\n",
    "#print(points.shape)\n",
    "points = np.append(points,Unknown_point)\n",
    "#print(points.shape)\n",
    "#points = np.append(points,Target_Point)    \n",
    "points=points.reshape(int(points.shape[0]/3),3)\n",
    "print(\"List of Points in between Unknown Points and Target Points\\n\",points)\n",
    "print(\"Distance required to reach reach points in meter\",Distance_Array)"
   ]
  },
  {
   "cell_type": "code",
   "execution_count": 21,
   "metadata": {},
   "outputs": [
    {
     "name": "stdout",
     "output_type": "stream",
     "text": [
      "Target Point to Reach\n",
      " [  9.67647  77.67173]\n"
     ]
    }
   ],
   "source": [
    "print(\"Target Point to Reach\\n\",Target_Point)\n"
   ]
  },
  {
   "cell_type": "code",
   "execution_count": 22,
   "metadata": {},
   "outputs": [
    {
     "data": {
      "text/plain": [
       "9.6875699999999991"
      ]
     },
     "execution_count": 22,
     "metadata": {},
     "output_type": "execute_result"
    }
   ],
   "source": [
    "#print(Haversine(Target_Point,Unknown_point))\n",
    "Unknown_point[0]"
   ]
  },
  {
   "cell_type": "code",
   "execution_count": 23,
   "metadata": {},
   "outputs": [
    {
     "data": {
      "text/plain": [
       "(6,)"
      ]
     },
     "execution_count": 23,
     "metadata": {},
     "output_type": "execute_result"
    }
   ],
   "source": [
    "Distance_Array.shape"
   ]
  },
  {
   "cell_type": "code",
   "execution_count": 24,
   "metadata": {},
   "outputs": [
    {
     "name": "stderr",
     "output_type": "stream",
     "text": [
      "C:\\ProgramData\\Anaconda3\\lib\\site-packages\\ipykernel_launcher.py:16: MatplotlibDeprecationWarning: pyplot.hold is deprecated.\n",
      "    Future behavior will be consistent with the long-time default:\n",
      "    plot commands add elements without first clearing the\n",
      "    Axes and/or Figure.\n",
      "  app.launch_new_instance()\n",
      "C:\\ProgramData\\Anaconda3\\lib\\site-packages\\matplotlib\\__init__.py:805: MatplotlibDeprecationWarning: axes.hold is deprecated. Please remove it from your matplotlibrc and/or style files.\n",
      "  mplDeprecation)\n",
      "C:\\ProgramData\\Anaconda3\\lib\\site-packages\\matplotlib\\rcsetup.py:155: MatplotlibDeprecationWarning: axes.hold is deprecated, will be removed in 3.0\n",
      "  mplDeprecation)\n",
      "C:\\ProgramData\\Anaconda3\\lib\\site-packages\\ipykernel_launcher.py:23: MatplotlibDeprecationWarning: pyplot.hold is deprecated.\n",
      "    Future behavior will be consistent with the long-time default:\n",
      "    plot commands add elements without first clearing the\n",
      "    Axes and/or Figure.\n"
     ]
    },
    {
     "data": {
      "image/png": "[encoded data removed]",
      "text/plain": [
       "<matplotlib.figure.Figure at 0x5873a20>"
      ]
     },
     "metadata": {},
     "output_type": "display_data"
    }
   ],
   "source": [
    "line_points_Lat = np.array([])\n",
    "line_points_Lon = np.array([])\n",
    "line_points_Lat = np.append(line_points_Lat,points[:,0])\n",
    "#print(type(line_points_Lat))\n",
    "line_points_Lat = np.append(line_points_Lat,Target_Point[0])\n",
    "#print(line_points_Lat)\n",
    "line_points_Lon = np.append(line_points_Lon,points[:,1])\n",
    "line_points_Lon = np.append(line_points_Lon,Target_Point[1])\n",
    "#print(line_points_Lon)\n",
    "True_center_alt = True_center_alt_copy.copy()#Back up\n",
    "#print(True_center_alt.shape)\n",
    "import matplotlib.pyplot as plt\n",
    "\n",
    "\n",
    "Display(count=1,size = 10, FileName = \"Output_File\",Cluster_Center = True_center_alt,RoadWay = True_LAT_LON)\n",
    "plt.hold(True)\n",
    "#fig1 = plt.figure(1, figsize=(15,12))\n",
    "#ax = fig1.add_subplot(111)\n",
    "plt.plot(line_points_Lon,line_points_Lat,'*-',linewidth=2,markersize=10)\n",
    "plt.text(StartingPoint[1],StartingPoint[0],'Start Point')\n",
    "plt.text(Target_Point[1],Target_Point[0],'Target Point')\n",
    "plt.savefig(\"OutputFile1.jpg\")\n",
    "plt.hold(False)"
   ]
  },
  {
   "cell_type": "code",
   "execution_count": 28,
   "metadata": {},
   "outputs": [
    {
     "name": "stdout",
     "output_type": "stream",
     "text": [
      "Distance without elevation in meter : 281.74\n",
      "Distance with Elevation in meter : 774.0\n"
     ]
    }
   ],
   "source": [
    "Sortted_Index,Distance = Haversine(True_LAT_LON,Unknown_point)\n",
    "print(\"Distance without elevation in meter :\",Distance[0])\n",
    "print(\"Distance with Elevation in meter :\",np.sum(Distance_Array))"
   ]
  },
  {
   "cell_type": "code",
   "execution_count": null,
   "metadata": {},
   "outputs": [],
   "source": []
  },
  {
   "cell_type": "code",
   "execution_count": null,
   "metadata": {},
   "outputs": [],
   "source": [
    "line_points_Lat = np.array([])\n",
    "line_points_Lon = np.array([])\n",
    "line_points_Lat = np.append(line_points_Lat,points[:,0])\n",
    "#print(type(line_points_Lat))\n",
    "line_points_Lat = np.append(line_points_Lat,Target_Point[0])\n",
    "#print(line_points_Lat)\n",
    "line_points_Lon = np.append(line_points_Lon,points[:,1])\n",
    "line_points_Lon = np.append(line_points_Lon,Target_Point[1])\n",
    "#print(line_points_Lon)\n",
    "True_center_alt = True_center_alt_copy.copy()#Back up\n",
    "#print(True_center_alt.shape)\n",
    "import matplotlib.pyplot as plt\n",
    "\n",
    "\n",
    "Display(count=1,size = 10, FileName = \"Output_File_2\",Cluster_Center = True_center_alt,RoadWay = True_LAT_LON)\n",
    "plt.hold(True)\n",
    "#fig1 = plt.figure(1, figsize=(15,12))\n",
    "#ax = fig1.add_subplot(111)\n",
    "plt.plot(line_points_Lon,line_points_Lat,'*-',linewidth=2,markersize=10)\n",
    "plt.text(StartingPoint[1],StartingPoint[0],'Start Point')\n",
    "plt.text(Target_Point[1],Target_Point[0],'Target Point')\n",
    "plt.savefig(\"OutputFile1.jpg\")\n",
    "plt.hold(False)"
   ]
  },
  {
   "cell_type": "code",
   "execution_count": null,
   "metadata": {},
   "outputs": [],
   "source": []
  }
 ],
 "metadata": {
  "kernelspec": {
   "display_name": "Python 3",
   "language": "python",
   "name": "python3"
  },
  "language_info": {
   "codemirror_mode": {
    "name": "ipython",
    "version": 3
   },
   "file_extension": ".py",
   "mimetype": "text/x-python",
   "name": "python",
   "nbconvert_exporter": "python",
   "pygments_lexer": "ipython3",
   "version": "3.6.4"
  }
 },
 "nbformat": 4,
 "nbformat_minor": 2
}
