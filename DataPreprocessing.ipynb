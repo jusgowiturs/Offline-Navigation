{
 "cells": [
  {
   "cell_type": "code",
   "execution_count": 1,
   "metadata": {},
   "outputs": [
    {
     "name": "stdout",
     "output_type": "stream",
     "text": [
      "C:/Users/Administrator/Desktop/Offline_Navigation_System/Code_Python/Training/giri.kml\n"
     ]
    }
   ],
   "source": [
    "from xml.dom import minidom   #Parse can be carried out\n",
    "import numpy as np\n",
    "from tkinter import *\n",
    "from tkinter import filedialog\n",
    "\n",
    "root = Tk()\n",
    "root.filename = filedialog.askopenfilename(filetypes = ((\"KML/KMZ files\",\"*.kml\"),(\"All Files\",\"*.*\")))\n",
    "#kml_file = 'C:\\\\Users\\\\Administrator\\\\Desktop\\\\Offline_Navigation_System\\\\Code_Python\\\\Training\\\\GiriPathEntire.kml'\n",
    "kml_file = root.filename\n",
    "root.destroy()\n",
    "\n",
    "print(root.filename)\n",
    "\n",
    "#kml_file = 'C:\\\\Users\\\\Administrator\\\\Desktop\\\\Offline_Navigation_System\\\\Code_Python\\\\Training\\\\SVEM_K_Means\\\\Prabhu_Ram\\\\Path\\\\SaturaGiriPathEntire.kml'\n"
   ]
  },
  {
   "cell_type": "code",
   "execution_count": 2,
   "metadata": {},
   "outputs": [],
   "source": [
    "Latitude_Path = []\n",
    "Longitude_Path = []\n",
    "Altitude_Path = []\n",
    "Latitude_Forest = []\n",
    "Longitude_Forest = []\n",
    "Altitude_Forest = []\n",
    "xml_doc = minidom.parse(kml_file)\n",
    "kml = xml_doc.getElementsByTagName(\"kml\")[0]# Getting  a List of TagNames of first alone \n",
    "kml_all = xml_doc.getElementsByTagName(\"kml\")[:]# Getting a List of TagNames of all\n",
    "document  = kml.getElementsByTagName(\"Document\")[0]\n",
    "placemarks = document.getElementsByTagName(\"Placemark\")\n"
   ]
  },
  {
   "cell_type": "code",
   "execution_count": 3,
   "metadata": {},
   "outputs": [
    {
     "ename": "ValueError",
     "evalue": "could not convert string to float: '0 77.4734599085775'",
     "output_type": "error",
     "traceback": [
      "\u001b[1;31m---------------------------------------------------------------------------\u001b[0m",
      "\u001b[1;31mValueError\u001b[0m                                Traceback (most recent call last)",
      "\u001b[1;32m<ipython-input-3-383fa2dfddf6>\u001b[0m in \u001b[0;36m<module>\u001b[1;34m()\u001b[0m\n\u001b[0;32m     11\u001b[0m     \u001b[1;31m#print(len(LAT_LON))\u001b[0m\u001b[1;33m\u001b[0m\u001b[1;33m\u001b[0m\u001b[0m\n\u001b[0;32m     12\u001b[0m     \u001b[1;31m#print(type(LAT_LON))\u001b[0m\u001b[1;33m\u001b[0m\u001b[1;33m\u001b[0m\u001b[0m\n\u001b[1;32m---> 13\u001b[1;33m     \u001b[0mTemp_Lon\u001b[0m \u001b[1;33m=\u001b[0m \u001b[1;33m[\u001b[0m\u001b[0mfloat\u001b[0m\u001b[1;33m(\u001b[0m\u001b[0mi\u001b[0m\u001b[1;33m)\u001b[0m \u001b[1;32mfor\u001b[0m \u001b[0mi\u001b[0m \u001b[1;32min\u001b[0m \u001b[0mLAT_LON\u001b[0m\u001b[1;33m[\u001b[0m\u001b[1;36m0\u001b[0m\u001b[1;33m:\u001b[0m\u001b[1;33m:\u001b[0m\u001b[1;36m3\u001b[0m\u001b[1;33m]\u001b[0m\u001b[1;33m]\u001b[0m\u001b[1;31m#At Last \\n string will be appended so to remove it, I have Considered from 0 to last subscript\u001b[0m\u001b[1;33m\u001b[0m\u001b[0m\n\u001b[0m\u001b[0;32m     14\u001b[0m     \u001b[0mTemp_Lat\u001b[0m \u001b[1;33m=\u001b[0m \u001b[1;33m[\u001b[0m\u001b[0mfloat\u001b[0m\u001b[1;33m(\u001b[0m\u001b[0mi\u001b[0m\u001b[1;33m)\u001b[0m \u001b[1;32mfor\u001b[0m \u001b[0mi\u001b[0m \u001b[1;32min\u001b[0m \u001b[0mLAT_LON\u001b[0m\u001b[1;33m[\u001b[0m\u001b[1;36m1\u001b[0m\u001b[1;33m:\u001b[0m\u001b[1;33m:\u001b[0m\u001b[1;36m3\u001b[0m\u001b[1;33m]\u001b[0m\u001b[1;33m]\u001b[0m \u001b[1;31m#Second Element is Longitude so considered from 1 to till end\u001b[0m\u001b[1;33m\u001b[0m\u001b[0m\n\u001b[0;32m     15\u001b[0m     \u001b[0mTemp_Alt\u001b[0m \u001b[1;33m=\u001b[0m \u001b[1;33m[\u001b[0m\u001b[0mfloat\u001b[0m\u001b[1;33m(\u001b[0m\u001b[0mi\u001b[0m\u001b[1;33m)\u001b[0m \u001b[1;32mfor\u001b[0m \u001b[0mi\u001b[0m \u001b[1;32min\u001b[0m \u001b[0mLAT_LON\u001b[0m\u001b[1;33m[\u001b[0m\u001b[1;36m2\u001b[0m\u001b[1;33m:\u001b[0m\u001b[1;33m:\u001b[0m\u001b[1;36m3\u001b[0m\u001b[1;33m]\u001b[0m\u001b[1;33m]\u001b[0m  \u001b[1;31m# Third Element is ALtitude so considered from 2 to till end\u001b[0m\u001b[1;33m\u001b[0m\u001b[0m\n",
      "\u001b[1;32m<ipython-input-3-383fa2dfddf6>\u001b[0m in \u001b[0;36m<listcomp>\u001b[1;34m(.0)\u001b[0m\n\u001b[0;32m     11\u001b[0m     \u001b[1;31m#print(len(LAT_LON))\u001b[0m\u001b[1;33m\u001b[0m\u001b[1;33m\u001b[0m\u001b[0m\n\u001b[0;32m     12\u001b[0m     \u001b[1;31m#print(type(LAT_LON))\u001b[0m\u001b[1;33m\u001b[0m\u001b[1;33m\u001b[0m\u001b[0m\n\u001b[1;32m---> 13\u001b[1;33m     \u001b[0mTemp_Lon\u001b[0m \u001b[1;33m=\u001b[0m \u001b[1;33m[\u001b[0m\u001b[0mfloat\u001b[0m\u001b[1;33m(\u001b[0m\u001b[0mi\u001b[0m\u001b[1;33m)\u001b[0m \u001b[1;32mfor\u001b[0m \u001b[0mi\u001b[0m \u001b[1;32min\u001b[0m \u001b[0mLAT_LON\u001b[0m\u001b[1;33m[\u001b[0m\u001b[1;36m0\u001b[0m\u001b[1;33m:\u001b[0m\u001b[1;33m:\u001b[0m\u001b[1;36m3\u001b[0m\u001b[1;33m]\u001b[0m\u001b[1;33m]\u001b[0m\u001b[1;31m#At Last \\n string will be appended so to remove it, I have Considered from 0 to last subscript\u001b[0m\u001b[1;33m\u001b[0m\u001b[0m\n\u001b[0m\u001b[0;32m     14\u001b[0m     \u001b[0mTemp_Lat\u001b[0m \u001b[1;33m=\u001b[0m \u001b[1;33m[\u001b[0m\u001b[0mfloat\u001b[0m\u001b[1;33m(\u001b[0m\u001b[0mi\u001b[0m\u001b[1;33m)\u001b[0m \u001b[1;32mfor\u001b[0m \u001b[0mi\u001b[0m \u001b[1;32min\u001b[0m \u001b[0mLAT_LON\u001b[0m\u001b[1;33m[\u001b[0m\u001b[1;36m1\u001b[0m\u001b[1;33m:\u001b[0m\u001b[1;33m:\u001b[0m\u001b[1;36m3\u001b[0m\u001b[1;33m]\u001b[0m\u001b[1;33m]\u001b[0m \u001b[1;31m#Second Element is Longitude so considered from 1 to till end\u001b[0m\u001b[1;33m\u001b[0m\u001b[0m\n\u001b[0;32m     15\u001b[0m     \u001b[0mTemp_Alt\u001b[0m \u001b[1;33m=\u001b[0m \u001b[1;33m[\u001b[0m\u001b[0mfloat\u001b[0m\u001b[1;33m(\u001b[0m\u001b[0mi\u001b[0m\u001b[1;33m)\u001b[0m \u001b[1;32mfor\u001b[0m \u001b[0mi\u001b[0m \u001b[1;32min\u001b[0m \u001b[0mLAT_LON\u001b[0m\u001b[1;33m[\u001b[0m\u001b[1;36m2\u001b[0m\u001b[1;33m:\u001b[0m\u001b[1;33m:\u001b[0m\u001b[1;36m3\u001b[0m\u001b[1;33m]\u001b[0m\u001b[1;33m]\u001b[0m  \u001b[1;31m# Third Element is ALtitude so considered from 2 to till end\u001b[0m\u001b[1;33m\u001b[0m\u001b[0m\n",
      "\u001b[1;31mValueError\u001b[0m: could not convert string to float: '0 77.4734599085775'"
     ]
    }
   ],
   "source": [
    "for placemark in placemarks:\n",
    "    #print(placemark)\n",
    "    name = placemark.getElementsByTagName(\"name\")[0].firstChild.data\n",
    "    #coordinates = placemark.getElementsByTagName(\"coordinates\")[0].firstChild.data\n",
    "    coordinates = placemark.getElementsByTagName(\"coordinates\")[0].firstChild.data\n",
    "    list_coordinates = coordinates.replace(\"\\n\",\",\\n\")\n",
    "    list_coordinates = list_coordinates.replace(\"\\n                \",\"\")\n",
    "    LAT_LON = list_coordinates.split(',')\n",
    "    #print(LAT_LON)\n",
    "    LAT_LON = LAT_LON[1:-1]     # list are arranged in the form of [longitude, latitude, altitude,latitude, longitude, altitude, ... ]\n",
    "    #print(len(LAT_LON))\n",
    "    #print(type(LAT_LON))\n",
    "    Temp_Lon = [float(i) for i in LAT_LON[0::3]]#At Last \\n string will be appended so to remove it, I have Considered from 0 to last subscript\n",
    "    Temp_Lat = [float(i) for i in LAT_LON[1::3]] #Second Element is Longitude so considered from 1 to till end\n",
    "    Temp_Alt = [float(i) for i in LAT_LON[2::3]]  # Third Element is ALtitude so considered from 2 to till end\n",
    "    if(name == \"Region1\"):\n",
    "        Latitude_Forest.extend(Temp_Lat)\n",
    "        Longitude_Forest.extend(Temp_Lon)\n",
    "        Altitude_Forest.extend(Temp_Alt)\n",
    "    else:\n",
    "        Latitude_Path.extend(Temp_Lat)\n",
    "        Longitude_Path.extend(Temp_Lon)\n",
    "        Altitude_Path.extend(Temp_Alt)\n",
    "np_Lat_Path = np.array(Latitude_Path)\n",
    "np_Lon_Path = np.array(Longitude_Path)\n",
    "np_att_Path = np.array(Altitude_Path)\n",
    "np_Lat_forest = np.array(Latitude_Forest)\n",
    "np_Lon_forest = np.array(Longitude_Forest)\n",
    "np_att_forest = np.array(Altitude_Forest)\n",
    "np_LAT_LON_Path = np.array(np.column_stack([Latitude_Path,Longitude_Path]).tolist())\n",
    "np_LAT_LON_Forest = np.array(np.column_stack([Latitude_Forest,Longitude_Forest]).tolist())\n",
    "del(Latitude_Path,Latitude_Forest,Longitude_Forest,Longitude_Path,Altitude_Path,Altitude_Forest)\n",
    "print(np_Lat_Path.size)\n",
    "print(np_Lat_forest.size)"
   ]
  },
  {
   "cell_type": "code",
   "execution_count": null,
   "metadata": {},
   "outputs": [],
   "source": []
  },
  {
   "cell_type": "code",
   "execution_count": null,
   "metadata": {},
   "outputs": [],
   "source": []
  },
  {
   "cell_type": "code",
   "execution_count": null,
   "metadata": {},
   "outputs": [],
   "source": []
  },
  {
   "cell_type": "code",
   "execution_count": 7,
   "metadata": {},
   "outputs": [
    {
     "data": {
      "text/plain": [
       "True"
      ]
     },
     "execution_count": 7,
     "metadata": {},
     "output_type": "execute_result"
    }
   ],
   "source": [
    "np.array_equal(np_Lon_Path,np_LAT_LON_Path[:,1])\n"
   ]
  },
  {
   "cell_type": "markdown",
   "metadata": {},
   "source": [
    "# Saving LAT_LON of PATH and Forest in csv file\n",
    "### Mode is w+ which will write only once but for append change mode to \"ab\""
   ]
  },
  {
   "cell_type": "code",
   "execution_count": 8,
   "metadata": {},
   "outputs": [],
   "source": [
    "f=open('LAT_LON_Forest.csv','wb')\n",
    "np.savetxt(f,np_LAT_LON_Forest, delimiter=',')\n",
    "f.close()\n",
    "f=open('LAT_LON_Path.csv','wb')\n",
    "np.savetxt(f,np_LAT_LON_Path, delimiter=',')\n",
    "f.close()"
   ]
  },
  {
   "cell_type": "code",
   "execution_count": null,
   "metadata": {},
   "outputs": [],
   "source": []
  },
  {
   "cell_type": "code",
   "execution_count": null,
   "metadata": {},
   "outputs": [],
   "source": []
  }
 ],
 "metadata": {
  "kernelspec": {
   "display_name": "Python 3",
   "language": "python",
   "name": "python3"
  },
  "language_info": {
   "codemirror_mode": {
    "name": "ipython",
    "version": 3
   },
   "file_extension": ".py",
   "mimetype": "text/x-python",
   "name": "python",
   "nbconvert_exporter": "python",
   "pygments_lexer": "ipython3",
   "version": "3.6.4"
  }
 },
 "nbformat": 4,
 "nbformat_minor": 2
}
